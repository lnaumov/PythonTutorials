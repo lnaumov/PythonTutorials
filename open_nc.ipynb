{
 "cells": [
  {
   "cell_type": "markdown",
   "metadata": {},
   "source": [
    "# Как открыть nc файл в python?\n",
    "Для открытия nc файлов в python обычно используют 2 библиотеки:\n",
    "1. netCDF4 (простая и более low-level библиотека);\n",
    "2. xarray (более сложная библиотека с более широким функционалом)"
   ]
  },
  {
   "cell_type": "markdown",
   "metadata": {},
   "source": [
    "### Открываем nc файл c помощью netCDF4:"
   ]
  },
  {
   "cell_type": "code",
   "execution_count": 2,
   "metadata": {},
   "outputs": [],
   "source": [
    "#импортируем все что нужно\n",
    "import numpy as np #основаная библиотека для любых работ с числовыми массивами\n",
    "import matplotlib.pyplot as plt #для рисования\n",
    "from netCDF4 import Dataset #чтобы открыть файл"
   ]
  },
  {
   "cell_type": "code",
   "execution_count": 3,
   "metadata": {},
   "outputs": [
    {
     "data": {
      "text/plain": [
       "<class 'netCDF4._netCDF4.Dataset'>\n",
       "root group (NETCDF3_64BIT_OFFSET data model, file format NETCDF3):\n",
       "    Conventions: CF-1.6\n",
       "    history: 2022-06-02 12:48:36 GMT by grib_to_netcdf-2.24.3: /opt/ecmwf/mars-client/bin/grib_to_netcdf -S param -o /cache/data2/adaptor.mars.internal-1654174116.1080806-29982-8-2a88b3a7-3152-4359-b8f4-0c4185d54ba5.nc /cache/tmp/2a88b3a7-3152-4359-b8f4-0c4185d54ba5-adaptor.mars.internal-1654174107.621284-29982-11-tmp.grib\n",
       "    dimensions(sizes): longitude(1440), latitude(721), time(12)\n",
       "    variables(dimensions): float32 longitude(longitude), float32 latitude(latitude), int32 time(time), int16 t2m(time, latitude, longitude)\n",
       "    groups: "
      ]
     },
     "execution_count": 3,
     "metadata": {},
     "output_type": "execute_result"
    }
   ],
   "source": [
    "data = Dataset('era5_data.nc') # Загружаем в память инфу про датасет\n",
    "data # Можно посмотреть основную инфу про наш датасет"
   ]
  },
  {
   "cell_type": "code",
   "execution_count": 8,
   "metadata": {},
   "outputs": [
    {
     "data": {
      "text/plain": [
       "dict"
      ]
     },
     "execution_count": 8,
     "metadata": {},
     "output_type": "execute_result"
    }
   ],
   "source": [
    "#Для просмотра переменных можно использовать атрибут variables\n",
    "#Переменная var представляет собой словарь python\n",
    "\n",
    "var = data.variables\n",
    "type(var)"
   ]
  },
  {
   "cell_type": "code",
   "execution_count": 13,
   "metadata": {},
   "outputs": [
    {
     "name": "stdout",
     "output_type": "stream",
     "text": [
      "**** The main info about variable longitude **** \n",
      "\n",
      "<class 'netCDF4._netCDF4.Variable'>\n",
      "float32 longitude(longitude)\n",
      "    units: degrees_east\n",
      "    long_name: longitude\n",
      "unlimited dimensions: \n",
      "current shape = (1440,)\n",
      "filling on, default _FillValue of 9.969209968386869e+36 used \n",
      "\n",
      "**** The main info about variable latitude **** \n",
      "\n",
      "<class 'netCDF4._netCDF4.Variable'>\n",
      "float32 latitude(latitude)\n",
      "    units: degrees_north\n",
      "    long_name: latitude\n",
      "unlimited dimensions: \n",
      "current shape = (721,)\n",
      "filling on, default _FillValue of 9.969209968386869e+36 used \n",
      "\n",
      "**** The main info about variable time **** \n",
      "\n",
      "<class 'netCDF4._netCDF4.Variable'>\n",
      "int32 time(time)\n",
      "    units: hours since 1900-01-01 00:00:00.0\n",
      "    long_name: time\n",
      "    calendar: gregorian\n",
      "unlimited dimensions: \n",
      "current shape = (12,)\n",
      "filling on, default _FillValue of -2147483647 used \n",
      "\n",
      "**** The main info about variable t2m **** \n",
      "\n",
      "<class 'netCDF4._netCDF4.Variable'>\n",
      "int16 t2m(time, latitude, longitude)\n",
      "    scale_factor: 0.001665240712381429\n",
      "    add_offset: 257.97094624927274\n",
      "    _FillValue: -32767\n",
      "    missing_value: -32767\n",
      "    units: K\n",
      "    long_name: 2 metre temperature\n",
      "unlimited dimensions: \n",
      "current shape = (12, 721, 1440)\n",
      "filling on \n",
      "\n"
     ]
    }
   ],
   "source": [
    "for keys,items in var.items():\n",
    "    print(f'**** The main info about variable {keys} **** \\n')\n",
    "    print(items, '\\n')"
   ]
  },
  {
   "cell_type": "code",
   "execution_count": null,
   "metadata": {},
   "outputs": [],
   "source": []
  }
 ],
 "metadata": {
  "kernelspec": {
   "display_name": "Python 3.7",
   "language": "python",
   "name": "py3.7.9"
  },
  "language_info": {
   "codemirror_mode": {
    "name": "ipython",
    "version": 3
   },
   "file_extension": ".py",
   "mimetype": "text/x-python",
   "name": "python",
   "nbconvert_exporter": "python",
   "pygments_lexer": "ipython3",
   "version": "3.7.13"
  }
 },
 "nbformat": 4,
 "nbformat_minor": 4
}
